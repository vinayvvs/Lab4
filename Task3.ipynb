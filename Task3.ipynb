{
 "cells": [
  {
   "cell_type": "code",
   "execution_count": 6,
   "metadata": {},
   "outputs": [
    {
     "name": "stdout",
     "output_type": "stream",
     "text": [
      "30922\n",
      "['a', '–', 'az', 'és', 'nem', 'hogy', 'egy', 'kádár', 'magda', 'én', 'is', 'mondta', 'the', 'de', 'öreg', 'volt', 'most', 'azt', 'te', 'asszony', 'meg']\n",
      "8251\n"
     ]
    },
    {
     "data": {
      "image/png": "[encoded data removed]",
      "text/plain": [
       "<Figure size 432x288 with 1 Axes>"
      ]
     },
     "metadata": {
      "needs_background": "light"
     },
     "output_type": "display_data"
    }
   ],
   "source": [
    "#Q3\n",
    "import string\n",
    "import math\n",
    "import matplotlib.pyplot as pyplot \n",
    "fin=open('mybook.txt',encoding=\"utf-8\")\n",
    "list1=[]\n",
    "for para in fin:\n",
    "    para=para.split(' ')       #spliting para to words\n",
    "    for word in para:\n",
    "        word=word.strip(string.punctuation)      #stripping words to having without punctation\n",
    "        word=word.lower().strip()                #converting the word to lowercase and striping the whitespace\n",
    "        if(word != ''):                          #not considering empty strings which are left from stripping\n",
    "            list1.append(word)\n",
    "print(len(list1))           #Finding total number of words\n",
    "dic={}\n",
    "for word in list1:\n",
    "    if word not in dic: \n",
    "        count=list1.count(word)      #Counting the number of words in the list after stripping\n",
    "        dic[word]=count            #storing the word and its count in a dictionary\n",
    "d=sorted(dic,key=dic.get,reverse=True)      #Using get function to get values of dic and sorting in decreading order\n",
    "print(d[0:21])\n",
    "print(len(d))\n",
    "x=[]                              #Log of Rank list X axis\n",
    "y=[]                              #Log Frequency of words list Y axis\n",
    "for i in range(len(d)):                 \n",
    "    x.append(math.log(i+1))       \n",
    "    y.append(math.log(dic[d[i]]))\n",
    "pyplot.plot(x,y)\n",
    "pyplot.axis([0,6,0,20])                 #Range of X and Y axis\n",
    "pyplot.show()\n",
    "    "
   ]
  },
  {
   "cell_type": "code",
   "execution_count": null,
   "metadata": {},
   "outputs": [],
   "source": []
  }
 ],
 "metadata": {
  "kernelspec": {
   "display_name": "Python 3",
   "language": "python",
   "name": "python3"
  },
  "language_info": {
   "codemirror_mode": {
    "name": "ipython",
    "version": 3
   },
   "file_extension": ".py",
   "mimetype": "text/x-python",
   "name": "python",
   "nbconvert_exporter": "python",
   "pygments_lexer": "ipython3",
   "version": "3.7.6"
  }
 },
 "nbformat": 4,
 "nbformat_minor": 4
}
